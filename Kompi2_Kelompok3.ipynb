{
  "nbformat": 4,
  "nbformat_minor": 0,
  "metadata": {
    "colab": {
      "provenance": [],
      "collapsed_sections": [
        "T9oe7lR-zhqg",
        "kxnSDlF8zTA9",
        "ZcO4Ny8HPA01",
        "xELRF9_6PboM",
        "VNylS62gSobd",
        "n4mn3XPaS0dd",
        "lBSIRB8NS20K",
        "Jp4S-hmDS6q7",
        "hdmCkkTBwf6e",
        "wNIYYzEwwmdk",
        "YKKYLKG_wrrM"
      ]
    },
    "kernelspec": {
      "name": "python3",
      "display_name": "Python 3"
    },
    "language_info": {
      "name": "python"
    }
  },
  "cells": [
    {
      "cell_type": "markdown",
      "source": [
        "**TUGAS KELOMPOK 3**\n",
        "\n",
        "Anggota\n",
        "1. DS70219\tNazwa Nabila\n",
        "2. DS70203\tAfif Fadhil Mahmudi\n",
        "3. DS70211\tFiari Rahman\n",
        "4. DS70215\tM. Riziq Sirfatullah Alfarizi\n",
        "5. DS70207\tAyrisa Trianida\n",
        "6. DS70223  Safinatunnajah"
      ],
      "metadata": {
        "id": "xrXHJMxIzSsP"
      }
    },
    {
      "cell_type": "markdown",
      "source": [
        "<a id=\"A\"></a>\n",
        "# <b>A. <span style='color:#E1B12D'>Soal No 1</span></b>"
      ],
      "metadata": {
        "id": "T9oe7lR-zhqg"
      }
    },
    {
      "cell_type": "markdown",
      "source": [
        "<a id=\"A.\"></a>\n",
        "## <span style='color:#0B2F9F'>Jawaban no 1</span></b>\n",
        "\n",
        "1. Identifikasi dan jelaskan Tipe data apa saja yang ada pada data frame ada berapa kolom dan baris, serta informasi apa saja yang terkandung dalam data tersebut\n",
        "\n",
        "jadi di dataframe ini ada 2 tipe data yaitu String dan Integer\n",
        "\n",
        "1. No.Peserta(string)\n",
        "2. Nama (string)\n",
        "3. Jurusan (string)\n",
        "4. Berat Badan(integer)\n",
        "5. Tinggi Badan(Integer)\n",
        "\n",
        "dataframe ini memiliki 5 kolom dan 25 baris, data ini juga berisi data seperti tinggi dan berat badan siswa kompi 2\n",
        "\n",
        "- berat badan Tertinggi : 110 kg\n",
        "- berat badan Terendah : 43 kg\n",
        "- berat badan Tertinggi : 180 cm\n",
        "- berat badan Terendah : 149 cm"
      ],
      "metadata": {
        "id": "kxnSDlF8zTA9"
      }
    },
    {
      "cell_type": "code",
      "source": [
        "import pandas as pd\n",
        "\n",
        "url = 'https://raw.githubusercontent.com/PineTrader/Data/refs/heads/main/DataSet.csv'\n",
        "df = pd.read_csv(url)\n",
        "\n",
        "df = df.drop(columns=['Timestamp'])\n",
        "\n",
        "print(df.dtypes)\n",
        "print(df.head(25))"
      ],
      "metadata": {
        "id": "463AGAO_5sf_"
      },
      "execution_count": null,
      "outputs": []
    },
    {
      "cell_type": "code",
      "source": [
        "import pandas as pd\n",
        "\n",
        "# URL dari dataset\n",
        "url = 'https://raw.githubusercontent.com/PineTrader/Data/refs/heads/main/DataSet.csv'\n",
        "df = pd.read_csv(url)\n",
        "\n",
        "# Hapus kolom 'Timestamp'\n",
        "df = df.drop(columns=['Timestamp'])\n",
        "\n",
        "# Tampilkan data awal\n",
        "print(df.head(25))\n",
        "\n",
        "# Menemukan berat paling berat dan paling ringan\n",
        "max_weight = df['Berat Badan (Kg)'].max()\n",
        "min_weight = df['Berat Badan (Kg)'].min()\n",
        "\n",
        "# Menemukan tinggi paling tinggi dan paling rendah\n",
        "max_height = df['Tinggi Badan (Cm)'].max()\n",
        "min_height = df['Tinggi Badan (Cm)'].min()\n",
        "\n",
        "# Menemukan indeks individu dengan berat paling berat dan paling ringan\n",
        "heaviest_person = df['Berat Badan (Kg)'].idxmax()\n",
        "lightest_person = df['Berat Badan (Kg)'].idxmin()\n",
        "\n",
        "# Menemukan indeks individu dengan tinggi paling tinggi dan paling rendah\n",
        "tallest_person = df['Tinggi Badan (Cm)'].idxmax()\n",
        "shortest_person = df['Tinggi Badan (Cm)'].idxmin()\n",
        "\n",
        "# Tampilkan hasil\n",
        "print(f\"Berat paling berat: {max_weight} kg, oleh individu: {df.loc[heaviest_person]}\")\n",
        "print(f\"Berat paling ringan: {min_weight} kg, oleh individu: {df.loc[lightest_person]}\")\n",
        "print(f\"Tinggi paling tinggi: {max_height} cm, oleh individu: {df.loc[tallest_person]}\")\n",
        "print(f\"Tinggi paling rendah: {min_height} cm, oleh individu: {df.loc[shortest_person]}\")\n"
      ],
      "metadata": {
        "id": "qPNVggYtLBe7"
      },
      "execution_count": null,
      "outputs": []
    },
    {
      "cell_type": "markdown",
      "source": [
        "<a id=\"A.\"></a>\n",
        "## <span style='color:#0B2F9F'>Jawaban no 2</span></b>\n",
        "\n",
        "2. Hitunglah BMI setiap siswa dengan RUMUS BMI, masukkan hasil perhitungan pada dataframe\n",
        "\n",
        "disini kami sudah menambah kan kode (# Rumus BMI dengan pembulatan langsung ke 2 angka desimal\n",
        "df['BMI'] = (df['Berat Badan (Kg)'] / (df['Tinggi Badan (Cm)'] / 100) ** 2).round(2)) yang akan menghitung rumus bmi juga kami menambahkan round dibelakangnya agar angka desimal yang dihasilkan hanya 2 angka di belakang koma.\n",
        "\n",
        "setealah itu didapatkan hasil yang berbeda beda sesuai dengan berat dan tinggi badan masing masing siswa"
      ],
      "metadata": {
        "id": "ZcO4Ny8HPA01"
      }
    },
    {
      "cell_type": "code",
      "source": [
        "import pandas as pd\n",
        "\n",
        "# Baca data dari URL\n",
        "url = 'https://raw.githubusercontent.com/PineTrader/Data/refs/heads/main/DataSet.csv'\n",
        "df = pd.read_csv(url)\n",
        "\n",
        "# Hapus kolom 'Timestamp'\n",
        "df = df.drop(columns=['Timestamp'])\n",
        "\n",
        "# Rumus BMI dengan pembulatan langsung ke 2 angka desimal\n",
        "df['BMI'] = (df['Berat Badan (Kg)'] / (df['Tinggi Badan (Cm)'] / 100) ** 2).round(2)\n",
        "\n",
        "# Menampilkan 25 baris pertama dengan BMI\n",
        "print(df[['No. Peserta', 'Nama', 'Berat Badan (Kg)', 'Tinggi Badan (Cm)', 'BMI']].head(25))"
      ],
      "metadata": {
        "id": "bKhL8WiJOFIc"
      },
      "execution_count": null,
      "outputs": []
    },
    {
      "cell_type": "markdown",
      "source": [
        "<a id=\"A.\"></a>\n",
        "## <span style='color:#0B2F9F'>Jawaban no 3</span></b>\n",
        "\n",
        "3. Buatlah Program untuk menghitung BMI\n",
        "\n",
        "dibawah ini merupakan program menghitung BMI dimana pengguna harus menginputkan berat dan tinggi badan agar mendapatkan hasil"
      ],
      "metadata": {
        "id": "xELRF9_6PboM"
      }
    },
    {
      "cell_type": "code",
      "source": [
        "def hitung_bmi():\n",
        "    \"\"\"\n",
        "    Program untuk menghitung BMI berdasarkan input berat badan (kg) dan tinggi badan (cm) dari pengguna.\n",
        "    \"\"\"\n",
        "    try:\n",
        "        # Meminta input dari pengguna\n",
        "        berat = float(input(\"Masukkan berat badan (Kg): \"))\n",
        "        tinggi = float(input(\"Masukkan tinggi badan (Cm): \"))\n",
        "\n",
        "        # Menghitung BMI\n",
        "        bmi = berat / (tinggi / 100) ** 2\n",
        "\n",
        "        # Menampilkan hasil BMI dengan 2 angka di belakang koma\n",
        "        print(f\"Indeks Massa Tubuh (BMI) Anda adalah: {round(bmi, 2)}\")\n",
        "\n",
        "    except ValueError:\n",
        "        print(\"Error: Pastikan Anda memasukkan angka yang valid untuk berat dan tinggi.\")\n",
        "\n",
        "# Memanggil fungsi untuk menghitung BMI\n",
        "hitung_bmi()\n"
      ],
      "metadata": {
        "colab": {
          "base_uri": "https://localhost:8080/"
        },
        "id": "AyKaPsVoPiIc",
        "outputId": "6c8e20c0-eaca-4818-8e56-4edf8803e948"
      },
      "execution_count": null,
      "outputs": [
        {
          "output_type": "stream",
          "name": "stdout",
          "text": [
            "Masukkan berat badan (Kg): 10\n",
            "Masukkan tinggi badan (Cm): 200\n",
            "Indeks Massa Tubuh (BMI) Anda adalah: 2.5\n"
          ]
        }
      ]
    },
    {
      "cell_type": "markdown",
      "source": [
        "<a id=\"A.\"></a>\n",
        "## <span style='color:#0B2F9F'>Jawaban no 4</span></b>\n",
        "\n",
        "4. Buatlah status BMI untuk setiap siswa\n",
        "\n",
        "disini kategori BMI nya ialah :\n",
        "- Normal : 18.5 - 24.9\n",
        "- Overweight : 25.0 - 29.9\n",
        "- Obesity : 30.0 - 34.9\n",
        "- Underweight : <18.8\n",
        "\n",
        "dari kategori diatas kita bisa mengambil kesimpulan:\n",
        "- Normal : artinya siswa tersebut hanya harus menjaga berat badannya\n",
        "- Overweight : artinya siswa tersebut harus menurunkan berat badannya\n",
        "- Obesity : artinya siswa tersebut harus bena benar diet untuk menurunkan berat badannya\n",
        "- Underweight : artinya siswa tersebut harus menaikan berat badannnya"
      ],
      "metadata": {
        "id": "VNylS62gSobd"
      }
    },
    {
      "cell_type": "code",
      "source": [
        "import pandas as pd\n",
        "\n",
        "# Baca data dari URL\n",
        "url = 'https://raw.githubusercontent.com/PineTrader/Data/refs/heads/main/DataSet.csv'\n",
        "df = pd.read_csv(url)\n",
        "\n",
        "# Hapus kolom 'Timestamp'\n",
        "df = df.drop(columns=['Timestamp'])\n",
        "\n",
        "# Rumus BMI dengan pembulatan langsung ke 2 angka desimal\n",
        "df['BMI'] = (df['Berat Badan (Kg)'] / (df['Tinggi Badan (Cm)'] / 100) ** 2).round(2)\n",
        "\n",
        "# Menentukan kategori BMI\n",
        "def kategori_bmi(bmi):\n",
        "    if bmi < 18.5:\n",
        "        return 'Underweight'\n",
        "    elif 18.5 <= bmi < 25.0:\n",
        "        return 'Normal'\n",
        "    elif 25.0 <= bmi < 30.0:\n",
        "        return 'Overweight'\n",
        "    elif 30.0 <= bmi < 35.0:\n",
        "        return 'Obesity'\n",
        "    else:\n",
        "        return 'Severe Obesity'\n",
        "\n",
        "df['Kategori BMI'] = df['BMI'].apply(kategori_bmi)\n",
        "\n",
        "# Menampilkan 25 baris pertama dengan BMI dan Kategori\n",
        "print(df[['No. Peserta', 'Nama', 'Berat Badan (Kg)', 'Tinggi Badan (Cm)', 'BMI', 'Kategori BMI']].head(25))\n"
      ],
      "metadata": {
        "id": "mqk4qr6_Szmy"
      },
      "execution_count": null,
      "outputs": []
    },
    {
      "cell_type": "markdown",
      "source": [
        "<a id=\"A.\"></a>\n",
        "## <span style='color:#0B2F9F'>Jawaban no 5</span></b>\n",
        "\n",
        "5. Urutkan data berdasarkan tinggi badan dari yang tertinggi ke rendah dan urutkan juga berdasarkan abjad nama dari z - a"
      ],
      "metadata": {
        "id": "n4mn3XPaS0dd"
      }
    },
    {
      "cell_type": "code",
      "source": [
        "import pandas as pd\n",
        "\n",
        "# Baca data dari URL\n",
        "url = 'https://raw.githubusercontent.com/PineTrader/Data/refs/heads/main/DataSet.csv'\n",
        "df = pd.read_csv(url)\n",
        "\n",
        "# Hapus kolom 'Timestamp'\n",
        "df = df.drop(columns=['Timestamp'])\n",
        "\n",
        "# Rumus BMI dengan pembulatan langsung ke 2 angka desimal\n",
        "df['BMI'] = (df['Berat Badan (Kg)'] / (df['Tinggi Badan (Cm)'] / 100) ** 2).round(2)\n",
        "\n",
        "# Menentukan kategori BMI\n",
        "def kategori_bmi(bmi):\n",
        "    if bmi < 18.5:\n",
        "        return 'Underweight'\n",
        "    elif 18.5 <= bmi < 25.0:\n",
        "        return 'Normal'\n",
        "    elif 25.0 <= bmi < 30.0:\n",
        "        return 'Overweight'\n",
        "    elif 30.0 <= bmi < 35.0:\n",
        "        return 'Obesity'\n",
        "    else:\n",
        "        return 'Severe Obesity'\n",
        "\n",
        "df['Kategori BMI'] = df['BMI'].apply(kategori_bmi)\n",
        "\n",
        "# 1. DataFrame awal\n",
        "print(\"DataFrame Awal:\")\n",
        "print(df[['No. Peserta', 'Nama', 'Berat Badan (Kg)', 'Tinggi Badan (Cm)', 'BMI', 'Kategori BMI']].head(25))\n",
        "\n",
        "# 2. DataFrame setelah diurutkan berdasarkan Tinggi Badan (Cm)\n",
        "df_sorted_tinggi = df.sort_values(by='Tinggi Badan (Cm)', ascending=False)\n",
        "print(\"\\nDataFrame Setelah Diurutkan Berdasarkan Tinggi Badan (Cm):\")\n",
        "print(df_sorted_tinggi[['No. Peserta', 'Nama', 'Berat Badan (Kg)', 'Tinggi Badan (Cm)', 'BMI', 'Kategori BMI']].head(25))\n",
        "\n",
        "# 3. DataFrame setelah diurutkan berdasarkan Nama (Z - A)\n",
        "df_sorted_nama = df.sort_values(by='Nama', ascending=False)\n",
        "print(\"\\nDataFrame Setelah Diurutkan Berdasarkan Nama (Z - A):\")\n",
        "print(df_sorted_nama[['No. Peserta', 'Nama', 'Berat Badan (Kg)', 'Tinggi Badan (Cm)', 'BMI', 'Kategori BMI']].head(25))\n"
      ],
      "metadata": {
        "colab": {
          "base_uri": "https://localhost:8080/"
        },
        "id": "n8rGiuoxa0DL",
        "outputId": "b163b404-08cc-4ef7-c742-f04b737a3211"
      },
      "execution_count": null,
      "outputs": [
        {
          "output_type": "stream",
          "name": "stdout",
          "text": [
            "DataFrame Awal:\n",
            "   No. Peserta                           Nama  Berat Badan (Kg)  \\\n",
            "0      DS70222         Retno Sari Sirotujanah                63   \n",
            "1      DS70205     Aldy Iriansyah Syarifuddin                55   \n",
            "2      DS70218   Muhammad Rizki Irawan Wijaya               100   \n",
            "3      DS70202     Achmad Nurs Syururi Arifin                68   \n",
            "4      DS70209                Crisvane Dinda                 70   \n",
            "5      DS70217              Melati Anggiasari                46   \n",
            "6      DS70206               Anggie Maesyaroh                78   \n",
            "7      DS70221             Puteri Elisabeth P                54   \n",
            "8      DS70219                   Nazwa Nabila                45   \n",
            "9      DS70212                         Amalia                46   \n",
            "10     DS70224                  Stepanus Malo                54   \n",
            "11     DS70220   Pandu Giswantoro Abhi Wiguno                70   \n",
            "12     DS70213                           Lisa                51   \n",
            "13     DS70201                    Abdul Hafiz               110   \n",
            "14     DS70207                Ayrisa Trianida                58   \n",
            "15     DS70203            Afif Fadhil Mahmudi                51   \n",
            "16     DS70211                   Fiari Rahman                80   \n",
            "17     DS70208           Cisa Nada Salsabilla                60   \n",
            "18     DS70216                 Meilisa Triana                45   \n",
            "19     DS70214         Lu'lu' Mudhiah Adilah                 65   \n",
            "20     DS70225                 Taufiqurrohman                65   \n",
            "21     DS70210          Devita Hasnasya Rahma                43   \n",
            "22     DS70215  M. Riziq Sirfatullah Alfarizi                45   \n",
            "23     DS70204             Afsha Alifia Putri                45   \n",
            "\n",
            "    Tinggi Badan (Cm)    BMI    Kategori BMI  \n",
            "0                 160  24.61          Normal  \n",
            "1                 168  19.49          Normal  \n",
            "2                 176  32.28         Obesity  \n",
            "3                 180  20.99          Normal  \n",
            "4                 160  27.34      Overweight  \n",
            "5                 156  18.90          Normal  \n",
            "6                 162  29.72      Overweight  \n",
            "7                 160  21.09          Normal  \n",
            "8                 153  19.22          Normal  \n",
            "9                 149  20.72          Normal  \n",
            "10                160  21.09          Normal  \n",
            "11                172  23.66          Normal  \n",
            "12                162  19.43          Normal  \n",
            "13                175  35.92  Severe Obesity  \n",
            "14                165  21.30          Normal  \n",
            "15                171  17.44     Underweight  \n",
            "16                178  25.25      Overweight  \n",
            "17                163  22.58          Normal  \n",
            "18                150  20.00          Normal  \n",
            "19                160  25.39      Overweight  \n",
            "20                157  26.37      Overweight  \n",
            "21                150  19.11          Normal  \n",
            "22                162  17.15     Underweight  \n",
            "23                158  18.03     Underweight  \n",
            "\n",
            "DataFrame Setelah Diurutkan Berdasarkan Tinggi Badan (Cm):\n",
            "   No. Peserta                           Nama  Berat Badan (Kg)  \\\n",
            "3      DS70202     Achmad Nurs Syururi Arifin                68   \n",
            "16     DS70211                   Fiari Rahman                80   \n",
            "2      DS70218   Muhammad Rizki Irawan Wijaya               100   \n",
            "13     DS70201                    Abdul Hafiz               110   \n",
            "11     DS70220   Pandu Giswantoro Abhi Wiguno                70   \n",
            "15     DS70203            Afif Fadhil Mahmudi                51   \n",
            "1      DS70205     Aldy Iriansyah Syarifuddin                55   \n",
            "14     DS70207                Ayrisa Trianida                58   \n",
            "17     DS70208           Cisa Nada Salsabilla                60   \n",
            "12     DS70213                           Lisa                51   \n",
            "22     DS70215  M. Riziq Sirfatullah Alfarizi                45   \n",
            "6      DS70206               Anggie Maesyaroh                78   \n",
            "19     DS70214         Lu'lu' Mudhiah Adilah                 65   \n",
            "0      DS70222         Retno Sari Sirotujanah                63   \n",
            "10     DS70224                  Stepanus Malo                54   \n",
            "7      DS70221             Puteri Elisabeth P                54   \n",
            "4      DS70209                Crisvane Dinda                 70   \n",
            "23     DS70204             Afsha Alifia Putri                45   \n",
            "20     DS70225                 Taufiqurrohman                65   \n",
            "5      DS70217              Melati Anggiasari                46   \n",
            "8      DS70219                   Nazwa Nabila                45   \n",
            "18     DS70216                 Meilisa Triana                45   \n",
            "21     DS70210          Devita Hasnasya Rahma                43   \n",
            "9      DS70212                         Amalia                46   \n",
            "\n",
            "    Tinggi Badan (Cm)    BMI    Kategori BMI  \n",
            "3                 180  20.99          Normal  \n",
            "16                178  25.25      Overweight  \n",
            "2                 176  32.28         Obesity  \n",
            "13                175  35.92  Severe Obesity  \n",
            "11                172  23.66          Normal  \n",
            "15                171  17.44     Underweight  \n",
            "1                 168  19.49          Normal  \n",
            "14                165  21.30          Normal  \n",
            "17                163  22.58          Normal  \n",
            "12                162  19.43          Normal  \n",
            "22                162  17.15     Underweight  \n",
            "6                 162  29.72      Overweight  \n",
            "19                160  25.39      Overweight  \n",
            "0                 160  24.61          Normal  \n",
            "10                160  21.09          Normal  \n",
            "7                 160  21.09          Normal  \n",
            "4                 160  27.34      Overweight  \n",
            "23                158  18.03     Underweight  \n",
            "20                157  26.37      Overweight  \n",
            "5                 156  18.90          Normal  \n",
            "8                 153  19.22          Normal  \n",
            "18                150  20.00          Normal  \n",
            "21                150  19.11          Normal  \n",
            "9                 149  20.72          Normal  \n",
            "\n",
            "DataFrame Setelah Diurutkan Berdasarkan Nama (Z - A):\n",
            "   No. Peserta                           Nama  Berat Badan (Kg)  \\\n",
            "20     DS70225                 Taufiqurrohman                65   \n",
            "10     DS70224                  Stepanus Malo                54   \n",
            "0      DS70222         Retno Sari Sirotujanah                63   \n",
            "7      DS70221             Puteri Elisabeth P                54   \n",
            "11     DS70220   Pandu Giswantoro Abhi Wiguno                70   \n",
            "8      DS70219                   Nazwa Nabila                45   \n",
            "2      DS70218   Muhammad Rizki Irawan Wijaya               100   \n",
            "5      DS70217              Melati Anggiasari                46   \n",
            "18     DS70216                 Meilisa Triana                45   \n",
            "22     DS70215  M. Riziq Sirfatullah Alfarizi                45   \n",
            "19     DS70214         Lu'lu' Mudhiah Adilah                 65   \n",
            "12     DS70213                           Lisa                51   \n",
            "16     DS70211                   Fiari Rahman                80   \n",
            "21     DS70210          Devita Hasnasya Rahma                43   \n",
            "4      DS70209                Crisvane Dinda                 70   \n",
            "17     DS70208           Cisa Nada Salsabilla                60   \n",
            "14     DS70207                Ayrisa Trianida                58   \n",
            "6      DS70206               Anggie Maesyaroh                78   \n",
            "9      DS70212                         Amalia                46   \n",
            "1      DS70205     Aldy Iriansyah Syarifuddin                55   \n",
            "23     DS70204             Afsha Alifia Putri                45   \n",
            "15     DS70203            Afif Fadhil Mahmudi                51   \n",
            "3      DS70202     Achmad Nurs Syururi Arifin                68   \n",
            "13     DS70201                    Abdul Hafiz               110   \n",
            "\n",
            "    Tinggi Badan (Cm)    BMI    Kategori BMI  \n",
            "20                157  26.37      Overweight  \n",
            "10                160  21.09          Normal  \n",
            "0                 160  24.61          Normal  \n",
            "7                 160  21.09          Normal  \n",
            "11                172  23.66          Normal  \n",
            "8                 153  19.22          Normal  \n",
            "2                 176  32.28         Obesity  \n",
            "5                 156  18.90          Normal  \n",
            "18                150  20.00          Normal  \n",
            "22                162  17.15     Underweight  \n",
            "19                160  25.39      Overweight  \n",
            "12                162  19.43          Normal  \n",
            "16                178  25.25      Overweight  \n",
            "21                150  19.11          Normal  \n",
            "4                 160  27.34      Overweight  \n",
            "17                163  22.58          Normal  \n",
            "14                165  21.30          Normal  \n",
            "6                 162  29.72      Overweight  \n",
            "9                 149  20.72          Normal  \n",
            "1                 168  19.49          Normal  \n",
            "23                158  18.03     Underweight  \n",
            "15                171  17.44     Underweight  \n",
            "3                 180  20.99          Normal  \n",
            "13                175  35.92  Severe Obesity  \n"
          ]
        }
      ]
    },
    {
      "cell_type": "markdown",
      "source": [
        "<a id=\"A.\"></a>\n",
        "## <span style='color:#0B2F9F'>Jawaban no 6</span></b>\n",
        "\n",
        "6. Filter Data Frame\n",
        "\n",
        " Code dibawah ini berisi beberapa code untuk memfilter beberapa hal :\n",
        "- Filter status BMI di luar kategori 'Normal'.\n",
        "- Filter tinggi badan lebih dari 169 cm dan berat badan lebih dari 60 kg.\n",
        "- Filter nama yang mengandung huruf 'y'.\n",
        "- Filter peserta dengan berat badan kurang dari 60 kg."
      ],
      "metadata": {
        "id": "lBSIRB8NS20K"
      }
    },
    {
      "cell_type": "code",
      "source": [
        "import pandas as pd\n",
        "\n",
        "# Baca data dari URL\n",
        "url = 'https://raw.githubusercontent.com/PineTrader/Data/refs/heads/main/DataSet.csv'\n",
        "df = pd.read_csv(url)\n",
        "\n",
        "# Hapus kolom 'Timestamp'\n",
        "df = df.drop(columns=['Timestamp'])\n",
        "\n",
        "# Rumus BMI dengan pembulatan langsung ke 2 angka desimal\n",
        "df['BMI'] = (df['Berat Badan (Kg)'] / (df['Tinggi Badan (Cm)'] / 100) ** 2).round(2)\n",
        "\n",
        "# Menentukan kategori BMI\n",
        "def kategori_bmi(bmi):\n",
        "    if bmi < 18.5:\n",
        "        return 'Underweight'\n",
        "    elif 18.5 <= bmi < 25.0:\n",
        "        return 'Normal'\n",
        "    elif 25.0 <= bmi < 30.0:\n",
        "        return 'Overweight'\n",
        "    elif 30.0 <= bmi < 35.0:\n",
        "        return 'Obesity'\n",
        "    else:\n",
        "        return 'Severe Obesity'\n",
        "\n",
        "df['Kategori BMI'] = df['BMI'].apply(kategori_bmi)\n",
        "\n",
        "# 1. Filter peserta dengan status BMI di luar kategori 'Normal'\n",
        "df_bmi_luar_normal = df[df['Kategori BMI'] != 'Normal']\n",
        "print(\"Peserta dengan status BMI di luar kategori 'Normal':\")\n",
        "print(df_bmi_luar_normal[['No. Peserta', 'Nama', 'Berat Badan (Kg)', 'Tinggi Badan (Cm)', 'BMI', 'Kategori BMI']].head(25))\n",
        "\n",
        "# 2. Filter peserta dengan tinggi badan > 169 cm dan berat badan > 60 kg\n",
        "df_tinggi_berat_filter = df[(df['Tinggi Badan (Cm)'] > 169) & (df['Berat Badan (Kg)'] > 60)]\n",
        "print(\"\\nPeserta dengan tinggi badan > 169 cm dan berat badan > 60 kg:\")\n",
        "print(df_tinggi_berat_filter[['No. Peserta', 'Nama', 'Berat Badan (Kg)', 'Tinggi Badan (Cm)', 'BMI', 'Kategori BMI']].head(25))\n",
        "\n",
        "# 3. Filter peserta yang namanya mengandung huruf 'y'\n",
        "df_nama_y = df[df['Nama'].str.contains('y', case=False)]\n",
        "print(\"\\nPeserta dengan nama yang mengandung huruf 'y':\")\n",
        "print(df_nama_y[['No. Peserta', 'Nama', 'Berat Badan (Kg)', 'Tinggi Badan (Cm)', 'BMI', 'Kategori BMI']].head(25))\n",
        "\n",
        "# 4. Filter peserta yang berat badannya kurang dari 60 kg\n",
        "df_berat_kurang_60 = df[df['Berat Badan (Kg)'] < 60]\n",
        "print(\"\\nPeserta dengan berat badan kurang dari 60 kg:\")\n",
        "print(df_berat_kurang_60[['No. Peserta', 'Nama', 'Berat Badan (Kg)', 'Tinggi Badan (Cm)', 'BMI', 'Kategori BMI']].head(25))\n"
      ],
      "metadata": {
        "id": "AFjwoRm_TB9i"
      },
      "execution_count": null,
      "outputs": []
    },
    {
      "cell_type": "code",
      "source": [],
      "metadata": {
        "id": "G0czXPSaqMuj"
      },
      "execution_count": null,
      "outputs": []
    },
    {
      "cell_type": "markdown",
      "source": [
        "<a id=\"A.\"></a>\n",
        "## <span style='color:#0B2F9F'>Jawaban no 7</span></b>\n",
        "\n",
        "7. Tambahkan no urut"
      ],
      "metadata": {
        "id": "Jp4S-hmDS6q7"
      }
    },
    {
      "cell_type": "code",
      "source": [
        "import pandas as pd\n",
        "\n",
        "# Baca data dari URL\n",
        "url = 'https://raw.githubusercontent.com/PineTrader/Data/refs/heads/main/DataSet.csv'\n",
        "df = pd.read_csv(url)\n",
        "\n",
        "# Hapus kolom 'Timestamp'\n",
        "df = df.drop(columns=['Timestamp'])\n",
        "\n",
        "# Rumus BMI dengan pembulatan langsung ke 2 angka desimal\n",
        "df['BMI'] = (df['Berat Badan (Kg)'] / (df['Tinggi Badan (Cm)'] / 100) ** 2).round(2)\n",
        "\n",
        "# Menentukan kategori BMI\n",
        "def kategori_bmi(bmi):\n",
        "    if bmi < 18.5:\n",
        "        return 'Underweight'\n",
        "    elif 18.5 <= bmi < 25.0:\n",
        "        return 'Normal'\n",
        "    elif 25.0 <= bmi < 30.0:\n",
        "        return 'Overweight'\n",
        "    elif 30.0 <= bmi < 35.0:\n",
        "        return 'Obesity'\n",
        "    else:\n",
        "        return 'Severe Obesity'\n",
        "\n",
        "df['Kategori BMI'] = df['BMI'].apply(kategori_bmi)\n",
        "\n",
        "# Menambahkan kolom \"NO\" di posisi paling kiri\n",
        "df.insert(0, 'NO', range(1, len(df) + 1))\n",
        "\n",
        "# Menampilkan 25 baris pertama dengan kolom NO, BMI, dan Kategori\n",
        "print(df[['NO', 'No. Peserta', 'Nama', 'Berat Badan (Kg)', 'Tinggi Badan (Cm)', 'BMI', 'Kategori BMI']].head(25))\n"
      ],
      "metadata": {
        "id": "Gi5EZokVTBWS"
      },
      "execution_count": null,
      "outputs": []
    },
    {
      "cell_type": "markdown",
      "source": [
        "Penjelasan:\n",
        "\n",
        "- df.insert(0, 'NO', range(1, len(df) + 1)):\n",
        "- 0 berarti kolom baru akan dimasukkan di posisi paling kiri.\n",
        "- 'NO' adalah nama kolom baru.\n",
        "- range(1, len(df) + 1) adalah urutan angka dari 1 hingga jumlah baris di DataFrame, yang akan menjadi nilai untuk kolom \"NO\"."
      ],
      "metadata": {
        "id": "tSeDEqhto4qL"
      }
    },
    {
      "cell_type": "markdown",
      "source": [
        "<a id=\"A.\"></a>\n",
        "## <span style='color:#0B2F9F'>Jawaban no 8</span></b>\n",
        "\n",
        "8. Cari nilai nilai berikut\n",
        "\n",
        "- cari nilai-nilai\n",
        "- Rata-rata Tinggi Badan\n",
        "- Rata-rata Berat Badan\n",
        "- berapa jumlah siswa yang tercatat pada dataframe\n",
        "- 5 Orang dengan nilai BMI tertinggi\n",
        "- Berapa orang dengan tergolong status Underweight, Normal, Overweight, dan Obesity"
      ],
      "metadata": {
        "id": "XQpwkEDPS6di"
      }
    },
    {
      "cell_type": "code",
      "source": [
        "import pandas as pd\n",
        "\n",
        "# Baca data dari URL\n",
        "url = 'https://raw.githubusercontent.com/PineTrader/Data/refs/heads/main/DataSet.csv'\n",
        "df = pd.read_csv(url)\n",
        "\n",
        "# Hapus kolom 'Timestamp'\n",
        "df = df.drop(columns=['Timestamp'])\n",
        "\n",
        "# Rumus BMI dengan pembulatan langsung ke 2 angka desimal\n",
        "df['BMI'] = (df['Berat Badan (Kg)'] / (df['Tinggi Badan (Cm)'] / 100) ** 2).round(2)\n",
        "\n",
        "# Menentukan kategori BMI\n",
        "def kategori_bmi(bmi):\n",
        "    if bmi < 18.5:\n",
        "        return 'Underweight'\n",
        "    elif 18.5 <= bmi < 25.0:\n",
        "        return 'Normal'\n",
        "    elif 25.0 <= bmi < 30.0:\n",
        "        return 'Overweight'\n",
        "    elif 30.0 <= bmi < 35.0:\n",
        "        return 'Obesity'\n",
        "    else:\n",
        "        return 'Severe Obesity'\n",
        "\n",
        "df['Kategori BMI'] = df['BMI'].apply(kategori_bmi)\n",
        "\n",
        "# 1. Rata-rata Tinggi Badan\n",
        "rata2_tinggi = df['Tinggi Badan (Cm)'].mean()\n",
        "print(f\"Rata-rata Tinggi Badan: {rata2_tinggi:.2f} cm\")\n",
        "\n",
        "# 2. Rata-rata Berat Badan\n",
        "rata2_berat = df['Berat Badan (Kg)'].mean()\n",
        "print(f\"Rata-rata Berat Badan: {rata2_berat:.2f} kg\")\n",
        "\n",
        "# 3. Jumlah siswa yang tercatat pada DataFrame\n",
        "jumlah_siswa = df.shape[0]  # Menghitung jumlah baris (peserta)\n",
        "print(f\"Jumlah siswa yang tercatat: {jumlah_siswa} orang\")\n",
        "\n",
        "# 4. 5 orang dengan nilai BMI tertinggi\n",
        "top_5_bmi = df.nlargest(5, 'BMI')[['No. Peserta', 'Nama', 'Berat Badan (Kg)', 'Tinggi Badan (Cm)', 'BMI', 'Kategori BMI']]\n",
        "print(\"\\n5 Orang dengan nilai BMI tertinggi:\")\n",
        "print(top_5_bmi)\n",
        "\n",
        "# 5. Jumlah orang yang tergolong ke dalam status BMI\n",
        "bmi_counts = df['Kategori BMI'].value_counts()\n",
        "print(\"\\nJumlah orang berdasarkan kategori BMI:\")\n",
        "print(f\"Underweight: {bmi_counts.get('Underweight', 0)} orang\")\n",
        "print(f\"Normal: {bmi_counts.get('Normal', 0)} orang\")\n",
        "print(f\"Overweight: {bmi_counts.get('Overweight', 0)} orang\")\n",
        "print(f\"Obesity: {bmi_counts.get('Obesity', 0)} orang\")\n"
      ],
      "metadata": {
        "id": "yV-cdcA-pXP7"
      },
      "execution_count": null,
      "outputs": []
    },
    {
      "cell_type": "markdown",
      "source": [
        "Penjelasan:\n",
        "- Rata-rata Tinggi Badan: Menggunakan mean() untuk menghitung rata-rata kolom 'Tinggi Badan (Cm)'.\n",
        "\n",
        "- Rata-rata Berat Badan: Menggunakan mean() untuk menghitung rata-rata kolom 'Berat Badan (Kg)'.\n",
        "- Jumlah siswa yang tercatat: Menggunakan df.shape[0] untuk menghitung - - - jumlah baris dalam DataFrame, yang merupakan jumlah peserta.\n",
        "-5 orang dengan BMI tertinggi: Menggunakan nlargest() untuk mendapatkan 5 baris dengan nilai BMI tertinggi.\n",
        "- Jumlah orang dalam setiap kategori BMI: Menggunakan value_counts() untuk menghitung jumlah orang dalam setiap kategori BMI seperti Underweight, Normal, Overweight, dan Obesity."
      ],
      "metadata": {
        "id": "vjGRFdCDpvpc"
      }
    },
    {
      "cell_type": "markdown",
      "source": [
        "<a id=\"A\"></a>\n",
        "# <b>B. <span style='color:#E1B12D'>Soal No 2</span></b>"
      ],
      "metadata": {
        "id": "hdmCkkTBwf6e"
      }
    },
    {
      "cell_type": "code",
      "source": [
        "# Fungsi untuk memastikan input adalah integer\n",
        "def get_integer_input(prompt):\n",
        "    while True:\n",
        "        try:\n",
        "            return int(input(prompt))  # Mengembalikan nilai integer\n",
        "        except ValueError:\n",
        "            print(\"Error: Input harus berupa bilangan bulat!\")  # Menampilkan error jika input bukan integer\n",
        "\n",
        "# Meminta input dari user\n",
        "user_input = get_integer_input(\"Masukkan bilangan bulat antara 0 hingga 1.000.000.000: \")\n",
        "input_years = get_integer_input(\"Investment Tenure (years): \")\n",
        "\n",
        "# Memeriksa apakah nilai input dalam rentang yang diizinkan\n",
        "if 0 <= user_input <= 1000000000 and 1 <= input_years <= 25:\n",
        "    for year in range(1, input_years + 1):\n",
        "        rumus = user_input * 25 / 100  # Menghitung bunga 25% dari investasi\n",
        "        user_input += rumus  # Menambahkan bunga ke total investasi\n",
        "        print(f\"Year{year},Your Total Investment : {user_input}\") # Mencetak hasil setiap tahun sebagai integer\n",
        "else:\n",
        "    print(\"Error: Bilangan harus antara 0 hingga 1.000.000.000 dan tahun antara 1 hingga 25!\")"
      ],
      "metadata": {
        "id": "0M8GtGEnwkxU",
        "colab": {
          "base_uri": "https://localhost:8080/"
        },
        "outputId": "625014be-42c3-47bc-f099-6cbf8f4ca425"
      },
      "execution_count": null,
      "outputs": [
        {
          "output_type": "stream",
          "name": "stdout",
          "text": [
            "Masukkan bilangan bulat antara 0 hingga 1.000.000.000: 100000\n",
            "Investment Tenure (years): 2\n",
            "Year1,Your Total Investment : 125000.0\n",
            "Year2,Your Total Investment : 156250.0\n"
          ]
        }
      ]
    },
    {
      "cell_type": "markdown",
      "source": [
        "Kode ini adalah daftar nilai investasi setelah setiap tahun, di mana bunga 25% ditambahkan setiap tahunnya, sesuai dengan input dari pengguna.\n",
        "Penjelasan kode:\n",
        "1. Fungsi get_integer_input(prompt): Memastikan input pengguna adalah bilangan bulat (integer) dan meminta ulang input jika tidak valid.\n",
        "\n",
        "2. user_input = get_integer_input(...): Meminta input nilai investasi awal dari pengguna.\n",
        "\n",
        "3. input_years = get_integer_input(...): Meminta input jangka waktu investasi dalam tahun dari pengguna.\n",
        "\n",
        "4. if 0 <= user_input <= 1000000000 and 1 <= input_years <= 25:: Memeriksa apakah nilai investasi dan jangka waktu berada dalam rentang yang diizinkan.\n",
        "\n",
        "5. for year in range(1, input_years + 1):: Melakukan iterasi per tahun berdasarkan jangka waktu investasi.\n",
        "\n",
        "6. rumus = user_input * 25 / 100: Menghitung bunga 25% dari nilai investasi saat ini.\n",
        "\n",
        "7. user_input += rumus: Menambahkan bunga ke total investasi.\n",
        "\n",
        "8. print(f\"Year{year},Your Total Investment : {user_input}\"): Menampilkan total investasi setelah penambahan bunga untuk setiap tahun.\n",
        "\n",
        "9. else: print(\"Error: Bilangan harus antara 0 hingga 1.000.000.000 dan tahun antara 1 hingga 25!\"): Menampilkan pesan kesalahan jika input tidak sesuai batas yang ditentukan."
      ],
      "metadata": {
        "id": "hNxAxAhLEltt"
      }
    },
    {
      "cell_type": "markdown",
      "source": [
        "<a id=\"A\"></a>\n",
        "# <b>C. <span style='color:#E1B12D'>Soal No 3</span></b>"
      ],
      "metadata": {
        "id": "wNIYYzEwwmdk"
      }
    },
    {
      "cell_type": "code",
      "source": [
        "def cekBilanganPrima(num):\n",
        "    if num < 2:\n",
        "        return False\n",
        "    for i in range(2, int(num**0.5) + 1):\n",
        "        if num % i == 0:\n",
        "            return False\n",
        "    return True\n",
        "\n",
        "def hasil(n):\n",
        "    prima = []\n",
        "    num = 2\n",
        "    while len(prima) < n:\n",
        "        if cekBilanganPrima(num):\n",
        "            prima.append(num)\n",
        "        num += 1\n",
        "    return prima;\n",
        "\n",
        "n = int(input(\"Masukkan nilai n: \"))\n",
        "\n",
        "bilanganPrima = hasil(n)\n",
        "print(f\"\\nBerikut adalah {n} bilangan prima pertama:\")\n",
        "for i in range(0, len(bilanganPrima), 10):\n",
        "    print(*bilanganPrima[i:i+10])"
      ],
      "metadata": {
        "id": "vNM24MJswnAk"
      },
      "execution_count": null,
      "outputs": []
    },
    {
      "cell_type": "markdown",
      "source": [
        "- Fungsi untuk memeriksa apakah sebuah bilangan adalah bilangan prima\n",
        "def cekBilanganPrima(num):\n",
        "    if num < 2:\n",
        "        return False\n",
        "    for i in range(2, int(num**0.5) + 1):\n",
        "        if num % i == 0:\n",
        "            return False\n",
        "    return True\n",
        "\n",
        "- Fungsi untuk menghasilkan n bilangan prima pertama\n",
        "def hasil(n):\n",
        "    prima = []  # List kosong untuk menyimpan bilangan prima yang ditemukan\n",
        "    num = 2  # Mulai pencarian bilangan prima dari angka 2\n",
        "\n",
        "    while len(prima) < n:\n",
        "        if cekBilanganPrima(num):  # Cek apakah num adalah bilangan prima\n",
        "            prima.append(num)  # Jika ya, tambahkan ke daftar bilangan prima\n",
        "        num += 1  # Lanjut ke bilangan berikutnya untuk diperiksa\n",
        "\n",
        "    return prima  # Kembalikan daftar bilangan prima setelah menemukan n bilangan\n",
        "\n",
        "- Program utama\n",
        "n = int(input(\"Masukkan nilai n: \"))  # Meminta input dari pengguna berupa jumlah bilangan prima yang ingin dihasilkan\n",
        "\n",
        "-  Menghasilkan daftar bilangan prima sebanyak n buah\n",
        "bilanganPrima = hasil(n)\n",
        "\n",
        "- Mencetak hasilnya, 10 bilangan prima per baris\n",
        "print(f\"\\nBerikut adalah {n} bilangan prima pertama:\")\n",
        "for i in range(0, len(bilanganPrima), 10):\n",
        "    print(*bilanganPrima[i:i+10])  # Cetak 10 bilangan prima per baris"
      ],
      "metadata": {
        "id": "TrJlY1ez-JWP"
      }
    },
    {
      "cell_type": "markdown",
      "source": [
        "<a id=\"A\"></a>\n",
        "# <b>D. <span style='color:#E1B12D'>Soal No 4</span></b>"
      ],
      "metadata": {
        "id": "YKKYLKG_wrrM"
      }
    },
    {
      "cell_type": "code",
      "source": [
        "def pola_1(n):\n",
        "    for i in range(n):\n",
        "        # Mencetak spasi di awal untuk segitiga kiri\n",
        "        print(' ' * (2 * (n - i - 1)), end='')\n",
        "\n",
        "        # Mencetak bintang untuk segitiga kiri\n",
        "        print('* ' * (2 * i + 1), end='')\n",
        "\n",
        "        # Mencetak spasi antara kedua segitiga\n",
        "        print(' ' * (4 * (n - i - 1)), end='')\n",
        "\n",
        "        # Mencetak bintang untuk segitiga kanan\n",
        "        print('* ' * (2 * i + 1))\n",
        "\n",
        "# Menerima input dari pengguna\n",
        "n = int(input(\"Masukkan nilai n: \"))\n",
        "pola_1(n)\n"
      ],
      "metadata": {
        "id": "_zqqTYLLwsRV"
      },
      "execution_count": null,
      "outputs": []
    },
    {
      "cell_type": "markdown",
      "source": [
        "Kode ini mencetak pola simetris yang berbentuk dua segitiga, satu segitiga di sisi kiri dan satu di sisi kanan. Fungsi pola_1(n) mengambil input berupa bilangan n yang menentukan jumlah baris dari segitiga. Berikut adalah penjelasan dari langkah-langkah dalam kode:\n",
        "<br>\n",
        "**Penjelasan Kode**\n",
        "\n",
        "1.   for i in range(n) ini adalah Perulangan Baris, berarti setiap nilai i dari 0 sampai n-1 akan digunakan untuk membangun tiap baris pola.\n",
        "<br>\n",
        "2.   Segitiga Kiri\n",
        " * print(' ' * (2 * (n - i - 1)), end=''): Mencetak spasi di bagian kiri segitiga untuk memberikan efek segitiga yang rata kiri. Jumlah spasi berkurang seiring bertambahnya baris.\n",
        " * print('* ' * (2 * i + 1), end=''): Mencetak bintang segitiga kiri. Jumlah bintang yang dicetak di setiap baris adalah bilangan ganjil (sesuai pola segitiga), yaitu 2 * i + 1.\n",
        "<br>\n",
        "3.   Spasi Tengah\n",
        " * print(' ' * (4 * (n - i - 1)), end=''): Mencetak spasi di antara segitiga kiri dan segitiga kanan. Jumlah spasi semakin berkurang seiring bertambahnya baris.\n",
        "<br>\n",
        "4. Segitiga Kanan:\n",
        "\n",
        " * print('* ' * (2 * i + 1)): Mencetak bintang untuk segitiga kanan dengan pola yang sama seperti segitiga kiri."
      ],
      "metadata": {
        "id": "YJSjtMH8_CH2"
      }
    },
    {
      "cell_type": "code",
      "source": [
        "def pola_2(n):\n",
        "  # Bagian atas dari pola\n",
        "  for i in range(n):\n",
        "    # Reset karakter di setiap baris\n",
        "    char = chr(ord('A') + i)\n",
        "    # Cetak spasi\n",
        "    print(\"  \" * (n - i - 1), end=\"\")\n",
        "    # Cetak karakter\n",
        "    print((char + \" \") * (2 * i + 1))\n",
        "\n",
        "  # Bagian bawah dari pola\n",
        "  for i in range(n - 2, -1, -1):\n",
        "    # Reset karakter di setiap baris\n",
        "    char = chr(ord('A') + i)\n",
        "    # Cetak spasi\n",
        "    print(\"  \" * (n - i - 1), end=\"\")\n",
        "    # Cetak karakter\n",
        "    print((char + \" \") * (2 * i + 1))\n",
        "\n",
        "# Contoh pemanggilan fungsi\n",
        "n = int(input(\"Masukkan nilai n: \"))\n",
        "pola_2(n)"
      ],
      "metadata": {
        "id": "RmOcr10i_Je8"
      },
      "execution_count": null,
      "outputs": []
    },
    {
      "cell_type": "markdown",
      "source": [
        "Kode ini mencetak pola berupa bentuk 2 segitiga (berlian simetris) menggunakan huruf-huruf alfabet. Fungsi pola_2(n) akan membentuk berlian dengan jumlah baris yang ditentukan oleh nilai n. Pola ini terdiri dari dua bagian: bagian atas (segitiga piramida) dan bagian bawah (segitiga terbalik).\n"
      ],
      "metadata": {
        "id": "KcSB2e75_VmD"
      }
    }
  ]
}